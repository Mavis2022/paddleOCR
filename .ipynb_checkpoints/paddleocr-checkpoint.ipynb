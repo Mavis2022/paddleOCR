{
 "cells": [
  {
   "cell_type": "code",
   "execution_count": 26,
   "id": "3e3c6fb8",
   "metadata": {},
   "outputs": [],
   "source": [
    "import os\n",
    "import paddle\n",
    "from operator import index\n",
    "from paddleocr import PaddleOCR"
   ]
  },
  {
   "cell_type": "code",
   "execution_count": 8,
   "id": "6da367ca",
   "metadata": {},
   "outputs": [
    {
     "name": "stdout",
     "output_type": "stream",
     "text": [
      "64bit\r\n",
      "x86_64\r\n"
     ]
    }
   ],
   "source": [
    "!python -c \"import platform;print(platform.architecture()[0]);print(platform.machine())\"\n",
    "  "
   ]
  },
  {
   "cell_type": "code",
   "execution_count": 20,
   "id": "691219dd",
   "metadata": {},
   "outputs": [
    {
     "name": "stdout",
     "output_type": "stream",
     "text": [
      "Looking in indexes: https://mirror.baidu.com/pypi/simple\n",
      "Requirement already satisfied: paddlepaddle==2.2.2 in /home/ec2-user/anaconda3/envs/python3/lib/python3.6/site-packages (2.2.2)\n",
      "Requirement already satisfied: requests>=2.20.0 in /home/ec2-user/anaconda3/envs/python3/lib/python3.6/site-packages (from paddlepaddle==2.2.2) (2.26.0)\n",
      "Requirement already satisfied: six in /home/ec2-user/anaconda3/envs/python3/lib/python3.6/site-packages (from paddlepaddle==2.2.2) (1.15.0)\n",
      "Requirement already satisfied: Pillow in /home/ec2-user/anaconda3/envs/python3/lib/python3.6/site-packages (from paddlepaddle==2.2.2) (8.3.2)\n",
      "Requirement already satisfied: decorator in /home/ec2-user/anaconda3/envs/python3/lib/python3.6/site-packages (from paddlepaddle==2.2.2) (4.4.2)\n",
      "Requirement already satisfied: numpy>=1.13 in /home/ec2-user/anaconda3/envs/python3/lib/python3.6/site-packages (from paddlepaddle==2.2.2) (1.16.2)\n",
      "Requirement already satisfied: astor in /home/ec2-user/anaconda3/envs/python3/lib/python3.6/site-packages (from paddlepaddle==2.2.2) (0.8.1)\n",
      "Requirement already satisfied: protobuf>=3.1.0 in /home/ec2-user/anaconda3/envs/python3/lib/python3.6/site-packages (from paddlepaddle==2.2.2) (3.19.0)\n",
      "Requirement already satisfied: certifi>=2017.4.17 in /home/ec2-user/anaconda3/envs/python3/lib/python3.6/site-packages (from requests>=2.20.0->paddlepaddle==2.2.2) (2021.10.8)\n",
      "Requirement already satisfied: idna<4,>=2.5 in /home/ec2-user/anaconda3/envs/python3/lib/python3.6/site-packages (from requests>=2.20.0->paddlepaddle==2.2.2) (3.3)\n",
      "Requirement already satisfied: urllib3<1.27,>=1.21.1 in /home/ec2-user/anaconda3/envs/python3/lib/python3.6/site-packages (from requests>=2.20.0->paddlepaddle==2.2.2) (1.26.7)\n",
      "Requirement already satisfied: charset-normalizer~=2.0.0 in /home/ec2-user/anaconda3/envs/python3/lib/python3.6/site-packages (from requests>=2.20.0->paddlepaddle==2.2.2) (2.0.7)\n"
     ]
    }
   ],
   "source": [
    "!python -m pip install paddlepaddle==2.2.2 -i https://mirror.baidu.com/pypi/simple\n"
   ]
  },
  {
   "cell_type": "code",
   "execution_count": 22,
   "id": "94dd04f4",
   "metadata": {},
   "outputs": [
    {
     "name": "stdout",
     "output_type": "stream",
     "text": [
      "Running verify PaddlePaddle program ... \n",
      "PaddlePaddle works well on 1 CPU.\n",
      "PaddlePaddle works well on 2 CPUs.\n",
      "PaddlePaddle is installed successfully! Let's start deep learning with PaddlePaddle now.\n"
     ]
    }
   ],
   "source": [
    "paddle.utils.run_check()"
   ]
  },
  {
   "cell_type": "code",
   "execution_count": 24,
   "id": "ba075728",
   "metadata": {},
   "outputs": [],
   "source": [
    "from paddleocr import PaddleOCR\n",
    "ocr = PaddleOCR(use_gpu=False, lang=\"en\")\n",
    "img_path = \"/Users/vx/Documents/GitHub/BigoneMR/imgs/med/MedReport-page-001.jpg\""
   ]
  }
 ],
 "metadata": {
  "kernelspec": {
   "display_name": "conda_python3",
   "language": "python",
   "name": "conda_python3"
  },
  "language_info": {
   "codemirror_mode": {
    "name": "ipython",
    "version": 3
   },
   "file_extension": ".py",
   "mimetype": "text/x-python",
   "name": "python",
   "nbconvert_exporter": "python",
   "pygments_lexer": "ipython3",
   "version": "3.6.13"
  }
 },
 "nbformat": 4,
 "nbformat_minor": 5
}
