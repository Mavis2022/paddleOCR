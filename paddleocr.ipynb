{
 "cells": [
  {
   "cell_type": "code",
   "execution_count": 1,
   "id": "35684ae1",
   "metadata": {},
   "outputs": [
    {
     "name": "stderr",
     "output_type": "stream",
     "text": [
      "/home/ec2-user/anaconda3/envs/JupyterSystemEnv/lib/python3.7/site-packages/paddle/fluid/layers/utils.py:26: DeprecationWarning: `np.int` is a deprecated alias for the builtin `int`. To silence this warning, use `int` by itself. Doing this will not modify any behavior and is safe. When replacing `np.int`, you may wish to use e.g. `np.int64` or `np.int32` to specify the precision. If you wish to review your current use, check the release note link for additional information.\n",
      "Deprecated in NumPy 1.20; for more details and guidance: https://numpy.org/devdocs/release/1.20.0-notes.html#deprecations\n",
      "  def convert_to_list(value, n, name, dtype=np.int):\n"
     ]
    }
   ],
   "source": [
    "import os\n",
    "import paddle\n",
    "from operator import index\n",
    "from paddleocr import PaddleOCR"
   ]
  },
  {
   "cell_type": "code",
   "execution_count": 2,
   "id": "e9865524",
   "metadata": {},
   "outputs": [],
   "source": [
    "#!python -m pip uninstall paddlepaddle --yes"
   ]
  },
  {
   "cell_type": "code",
   "execution_count": 3,
   "id": "d819f97a",
   "metadata": {},
   "outputs": [],
   "source": [
    "#!python -c \"import platform;print(platform.architecture()[0]);print(platform.machine())\"\n",
    "  "
   ]
  },
  {
   "cell_type": "code",
   "execution_count": 4,
   "id": "c95518c0",
   "metadata": {},
   "outputs": [],
   "source": [
    "#!pip uninstall paddle --yes"
   ]
  },
  {
   "cell_type": "code",
   "execution_count": 5,
   "id": "bbf8cb6f",
   "metadata": {},
   "outputs": [],
   "source": [
    "#!python -m pip install paddlepaddle==2.0.0rc1 -i https://mirror.baidu.com/pypi/simple"
   ]
  },
  {
   "cell_type": "code",
   "execution_count": 6,
   "id": "b97ea9a9",
   "metadata": {},
   "outputs": [],
   "source": [
    "import paddle"
   ]
  },
  {
   "cell_type": "code",
   "execution_count": 7,
   "id": "03dc140e",
   "metadata": {},
   "outputs": [],
   "source": [
    "from paddle import utils"
   ]
  },
  {
   "cell_type": "code",
   "execution_count": 8,
   "id": "6b329fb0",
   "metadata": {},
   "outputs": [
    {
     "name": "stderr",
     "output_type": "stream",
     "text": [
      "WARNING:root:You are using GPU version PaddlePaddle, but there is no GPU detected on your machine. Maybe CUDA devices is not set properly.\n",
      " Original Error is Not compiled with CUDA\n"
     ]
    },
    {
     "name": "stdout",
     "output_type": "stream",
     "text": [
      "Running verify PaddlePaddle program ... \n",
      "PaddlePaddle works well on 1 CPU.\n",
      "PaddlePaddle works well on 2 CPUs.\n",
      "PaddlePaddle is installed successfully! Let's start deep learning with PaddlePaddle now.\n"
     ]
    },
    {
     "name": "stderr",
     "output_type": "stream",
     "text": [
      "W0314 06:25:42.857594 26268 build_strategy.cc:171] fusion_group is not enabled for Windows/MacOS now, and only effective when running with CUDA GPU.\n",
      "W0314 06:25:42.857676 26268 build_strategy.cc:396] fuse_bn_add_act_pass is only supported on GPU, skipped.\n",
      "W0314 06:25:42.858467 26268 fuse_all_reduce_op_pass.cc:75] Find all_reduce operators: 2. To make the speed faster, some all_reduce ops are fused during training, after fusion, the number of all_reduce ops is 2.\n"
     ]
    }
   ],
   "source": [
    "paddle.utils.run_check()"
   ]
  },
  {
   "cell_type": "code",
   "execution_count": null,
   "id": "136912f1",
   "metadata": {},
   "outputs": [],
   "source": [
    "from paddleocr import PaddleOCR\n",
    "ocr = PaddleOCR(use_gpu=False, lang=\"en\")\n",
    "img_path = \"/home/ec2-user/SageMaker/OCR/paddleocr/imgs/MedReport-page-001.jpg\"\n",
    "\n"
   ]
  },
  {
   "cell_type": "code",
   "execution_count": null,
   "id": "7218ac90",
   "metadata": {},
   "outputs": [],
   "source": [
    "result = ocr.ocr(img_path, cls=True)\n",
    "txts = [line[1][0] for line in result]"
   ]
  },
  {
   "cell_type": "code",
   "execution_count": null,
   "id": "bf18cf34",
   "metadata": {},
   "outputs": [],
   "source": []
  },
  {
   "cell_type": "code",
   "execution_count": null,
   "id": "7bf4f67f",
   "metadata": {},
   "outputs": [],
   "source": [
    "txts"
   ]
  },
  {
   "cell_type": "code",
   "execution_count": null,
   "id": "53f99184",
   "metadata": {},
   "outputs": [],
   "source": []
  }
 ],
 "metadata": {
  "kernelspec": {
   "display_name": "Python 3 (ipykernel)",
   "language": "python",
   "name": "python3"
  },
  "language_info": {
   "codemirror_mode": {
    "name": "ipython",
    "version": 3
   },
   "file_extension": ".py",
   "mimetype": "text/x-python",
   "name": "python",
   "nbconvert_exporter": "python",
   "pygments_lexer": "ipython3",
   "version": "3.7.12"
  }
 },
 "nbformat": 4,
 "nbformat_minor": 5
}
