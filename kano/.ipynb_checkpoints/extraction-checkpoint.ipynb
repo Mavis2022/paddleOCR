{
 "cells": [
  {
   "cell_type": "code",
   "execution_count": 2,
   "id": "f87b37e9",
   "metadata": {},
   "outputs": [],
   "source": [
    "import pandas as pd\n",
    "from openpyxl import load_workbook\n",
    "import numpy as np\n"
   ]
  },
  {
   "cell_type": "code",
   "execution_count": 4,
   "id": "fef78590",
   "metadata": {},
   "outputs": [],
   "source": [
    "wb = load_workbook('kano_pocr_v3.xlsx')\n",
    "wb.save(filename = 'temp.xlsx')\n",
    "df = pd.read_excel('temp.xlsx', engine='openpyxl')\n",
    "df_empty = df[df['pocr'].isnull()]\n",
    "empty_list = list(df_empty.index)\n"
   ]
  },
  {
   "cell_type": "code",
   "execution_count": 5,
   "id": "78413846",
   "metadata": {},
   "outputs": [
    {
     "data": {
      "text/html": [
       "<div>\n",
       "<style scoped>\n",
       "    .dataframe tbody tr th:only-of-type {\n",
       "        vertical-align: middle;\n",
       "    }\n",
       "\n",
       "    .dataframe tbody tr th {\n",
       "        vertical-align: top;\n",
       "    }\n",
       "\n",
       "    .dataframe thead th {\n",
       "        text-align: right;\n",
       "    }\n",
       "</style>\n",
       "<table border=\"1\" class=\"dataframe\">\n",
       "  <thead>\n",
       "    <tr style=\"text-align: right;\">\n",
       "      <th></th>\n",
       "      <th>Unnamed: 0</th>\n",
       "      <th>index</th>\n",
       "      <th>texts</th>\n",
       "      <th>id</th>\n",
       "      <th>image_url</th>\n",
       "      <th>row_number</th>\n",
       "      <th>_id</th>\n",
       "      <th>_error</th>\n",
       "      <th>pocr</th>\n",
       "    </tr>\n",
       "  </thead>\n",
       "  <tbody>\n",
       "    <tr>\n",
       "      <th>0</th>\n",
       "      <td>0</td>\n",
       "      <td>0</td>\n",
       "      <td>NaN</td>\n",
       "      <td>614010689249</td>\n",
       "      <td>https://img.alicdn.com/imgextra/i2/881215442/O...</td>\n",
       "      <td>14</td>\n",
       "      <td>1</td>\n",
       "      <td>NaN</td>\n",
       "      <td>NaN</td>\n",
       "    </tr>\n",
       "    <tr>\n",
       "      <th>1</th>\n",
       "      <td>1</td>\n",
       "      <td>1</td>\n",
       "      <td>NaN</td>\n",
       "      <td>614010689249</td>\n",
       "      <td>https://img.alicdn.com/imgextra/i4/881215442/O...</td>\n",
       "      <td>18</td>\n",
       "      <td>2</td>\n",
       "      <td>NaN</td>\n",
       "      <td>NaN</td>\n",
       "    </tr>\n",
       "    <tr>\n",
       "      <th>3</th>\n",
       "      <td>3</td>\n",
       "      <td>3</td>\n",
       "      <td>NaN</td>\n",
       "      <td>614010689249</td>\n",
       "      <td>https://img.alicdn.com/imgextra/i4/881215442/O...</td>\n",
       "      <td>16</td>\n",
       "      <td>4</td>\n",
       "      <td>NaN</td>\n",
       "      <td>NaN</td>\n",
       "    </tr>\n",
       "    <tr>\n",
       "      <th>12</th>\n",
       "      <td>12</td>\n",
       "      <td>12</td>\n",
       "      <td>NaN</td>\n",
       "      <td>614010689249</td>\n",
       "      <td>https://img.alicdn.com/imgextra/i4/881215442/O...</td>\n",
       "      <td>25</td>\n",
       "      <td>13</td>\n",
       "      <td>NaN</td>\n",
       "      <td>NaN</td>\n",
       "    </tr>\n",
       "    <tr>\n",
       "      <th>24</th>\n",
       "      <td>24</td>\n",
       "      <td>24</td>\n",
       "      <td>NaN</td>\n",
       "      <td>614010689249</td>\n",
       "      <td>https://img.alicdn.com/imgextra/i3/881215442/O...</td>\n",
       "      <td>33</td>\n",
       "      <td>25</td>\n",
       "      <td>NaN</td>\n",
       "      <td>NaN</td>\n",
       "    </tr>\n",
       "  </tbody>\n",
       "</table>\n",
       "</div>"
      ],
      "text/plain": [
       "    Unnamed: 0  index texts            id  \\\n",
       "0            0      0   NaN  614010689249   \n",
       "1            1      1   NaN  614010689249   \n",
       "3            3      3   NaN  614010689249   \n",
       "12          12     12   NaN  614010689249   \n",
       "24          24     24   NaN  614010689249   \n",
       "\n",
       "                                            image_url  row_number  _id _error  \\\n",
       "0   https://img.alicdn.com/imgextra/i2/881215442/O...          14    1    NaN   \n",
       "1   https://img.alicdn.com/imgextra/i4/881215442/O...          18    2    NaN   \n",
       "3   https://img.alicdn.com/imgextra/i4/881215442/O...          16    4    NaN   \n",
       "12  https://img.alicdn.com/imgextra/i4/881215442/O...          25   13    NaN   \n",
       "24  https://img.alicdn.com/imgextra/i3/881215442/O...          33   25    NaN   \n",
       "\n",
       "   pocr  \n",
       "0   NaN  \n",
       "1   NaN  \n",
       "3   NaN  \n",
       "12  NaN  \n",
       "24  NaN  "
      ]
     },
     "execution_count": 5,
     "metadata": {},
     "output_type": "execute_result"
    }
   ],
   "source": [
    "df_empty.head()"
   ]
  },
  {
   "cell_type": "code",
   "execution_count": 7,
   "id": "41518ed6",
   "metadata": {},
   "outputs": [],
   "source": [
    "url = list(df_empty['image_url'])[0]"
   ]
  },
  {
   "cell_type": "code",
   "execution_count": 11,
   "id": "30d7f769",
   "metadata": {},
   "outputs": [
    {
     "data": {
      "text/plain": [
       "('/home/ec2-user/SageMaker/OCR/paddleocr/kano/1.jpg',\n",
       " <http.client.HTTPMessage at 0x7f0d2f134048>)"
      ]
     },
     "execution_count": 11,
     "metadata": {},
     "output_type": "execute_result"
    }
   ],
   "source": [
    "import urllib.request\n",
    "import urllib.parse\n",
    "import time\n",
    "name = 1\n",
    "fullname = \"/home/ec2-user/SageMaker/OCR/paddleocr/kano/\"+str(name)+\".jpg\"\n",
    "urllib.request.urlretrieve(url,fullname) "
   ]
  },
  {
   "cell_type": "code",
   "execution_count": 12,
   "id": "53a9216b",
   "metadata": {},
   "outputs": [],
   "source": [
    "import os\n",
    "\n",
    "os.remove(fullname)"
   ]
  },
  {
   "cell_type": "code",
   "execution_count": null,
   "id": "1b7446ee",
   "metadata": {},
   "outputs": [],
   "source": [
    "import urllib.request\n",
    "import urllib.parse\n",
    "import time\n",
    "for i in range(len(ocr_file)):\n",
    "    print(i)\n",
    "    name = i\n",
    "    fullname = \"/home/ec2-user/SageMaker/PinduoduoBrandMatch/OCR_photos/\"+str(name)+\".jpg\"\n",
    "    ###image url\n",
    "    url = ocr_file['mall_logo'][i]\n",
    "    try: \n",
    "        urllib.request.urlretrieve(url,fullname) \n",
    "    except ConnectionResetError:\n",
    "        time.sleep(5)\n",
    "    except:\n",
    "        url = urllib.parse.quote(url,':/=&?')\n",
    "        urllib.request.urlretrieve(url,fullname)"
   ]
  },
  {
   "cell_type": "code",
   "execution_count": null,
   "id": "2cc9778f",
   "metadata": {},
   "outputs": [],
   "source": [
    "for i in list(df_empty['image_url']):\n",
    "    img_path = i"
   ]
  }
 ],
 "metadata": {
  "kernelspec": {
   "display_name": "conda_python3",
   "language": "python",
   "name": "conda_python3"
  },
  "language_info": {
   "codemirror_mode": {
    "name": "ipython",
    "version": 3
   },
   "file_extension": ".py",
   "mimetype": "text/x-python",
   "name": "python",
   "nbconvert_exporter": "python",
   "pygments_lexer": "ipython3",
   "version": "3.6.13"
  }
 },
 "nbformat": 4,
 "nbformat_minor": 5
}
